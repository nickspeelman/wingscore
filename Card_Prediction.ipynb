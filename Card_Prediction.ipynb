{
 "cells": [
  {
   "cell_type": "code",
   "execution_count": 1,
   "metadata": {
    "collapsed": true
   },
   "outputs": [],
   "source": [
    "import pandas as pd\n",
    "import numpy as np\n",
    "from sklearn.model_selection import train_test_split\n",
    "from sklearn.pipeline import make_pipeline\n",
    "from sklearn.impute import SimpleImputer\n",
    "from sklearn.preprocessing import StandardScaler\n",
    "from sklearn.preprocessing import OneHotEncoder\n",
    "from sklearn.compose import ColumnTransformer\n",
    "from sklearn.linear_model import LinearRegression\n",
    "from sklearn.model_selection import cross_val_score\n",
    "from sklearn.ensemble import RandomForestRegressor\n",
    "from sklearn.linear_model import Ridge\n",
    "from sklearn.linear_model import Lasso\n",
    "from sklearn.svm import SVR\n",
    "import matplotlib.pyplot as plt\n",
    "from sklearn.metrics import mean_squared_error\n",
    "import seaborn as sns"
   ]
  },
  {
   "cell_type": "code",
   "execution_count": 2,
   "outputs": [
    {
     "data": {
      "text/plain": "        Common_name          Scientific_name      Set  Color  \\\n0    Abbott's Booby         Papasula abbotti  oceania  white   \n1  Acorn Woodpecker  Melanerpes formicivorus     core  brown   \n2   American Avocet  Recurvirostra americana     core   pink   \n3  American Bittern    Botaurus lentiginosus     core  brown   \n4     American Coot         Fulica americana     core  brown   \n\n                                          Power_text  \\\n0  Draw 3 bonus cards, then discard 2. You may di...   \n1  Gain 1 [seed] from the birdfeeder, if availabl...   \n2  When another player takes the \"lay eggs\" actio...   \n3  Player(s) with the fewest birds in their [wetl...   \n4  Tuck 1 [card] from your hand behind this bird....   \n\n                                         Flavor_text  Predator  Flocking  \\\n0  This large, endangered seabird lives only on C...     False     False   \n1  In a single dead tree, these birds may drill a...     False     False   \n2  American avocets build their own nests, but th...     False     False   \n3  Bitterns hide in reeds and cattails, where the...     False     False   \n4  These omnivorous birds eat a lot of algae, but...     False      True   \n\n   Bonus_card  Victory_points  ... Nest_Box_Builder  Omnivore_Expert  \\\n0        True               5  ...            False            False   \n1       False               5  ...             True            False   \n2       False               6  ...            False            False   \n3       False               7  ...            False            False   \n4       False               3  ...            False             True   \n\n  Passerine_Specialist  Platform_Builder  Prairie_Manager  Rodentologist  \\\n0                False              True            False          False   \n1                False             False            False          False   \n2                False             False            False          False   \n3                False              True            False           True   \n4                False              True            False          False   \n\n   Small_Clutch_Specialist  Viticulturalist  Wetland_Scientist  \\\n0                     True            False               True   \n1                    False            False              False   \n2                     True            False               True   \n3                     True            False               True   \n4                    False            False               True   \n\n   Wildlife_Gardener  \n0              False  \n1              False  \n2              False  \n3              False  \n4              False  \n\n[5 rows x 60 columns]",
      "text/html": "<div>\n<style scoped>\n    .dataframe tbody tr th:only-of-type {\n        vertical-align: middle;\n    }\n\n    .dataframe tbody tr th {\n        vertical-align: top;\n    }\n\n    .dataframe thead th {\n        text-align: right;\n    }\n</style>\n<table border=\"1\" class=\"dataframe\">\n  <thead>\n    <tr style=\"text-align: right;\">\n      <th></th>\n      <th>Common_name</th>\n      <th>Scientific_name</th>\n      <th>Set</th>\n      <th>Color</th>\n      <th>Power_text</th>\n      <th>Flavor_text</th>\n      <th>Predator</th>\n      <th>Flocking</th>\n      <th>Bonus_card</th>\n      <th>Victory_points</th>\n      <th>...</th>\n      <th>Nest_Box_Builder</th>\n      <th>Omnivore_Expert</th>\n      <th>Passerine_Specialist</th>\n      <th>Platform_Builder</th>\n      <th>Prairie_Manager</th>\n      <th>Rodentologist</th>\n      <th>Small_Clutch_Specialist</th>\n      <th>Viticulturalist</th>\n      <th>Wetland_Scientist</th>\n      <th>Wildlife_Gardener</th>\n    </tr>\n  </thead>\n  <tbody>\n    <tr>\n      <th>0</th>\n      <td>Abbott's Booby</td>\n      <td>Papasula abbotti</td>\n      <td>oceania</td>\n      <td>white</td>\n      <td>Draw 3 bonus cards, then discard 2. You may di...</td>\n      <td>This large, endangered seabird lives only on C...</td>\n      <td>False</td>\n      <td>False</td>\n      <td>True</td>\n      <td>5</td>\n      <td>...</td>\n      <td>False</td>\n      <td>False</td>\n      <td>False</td>\n      <td>True</td>\n      <td>False</td>\n      <td>False</td>\n      <td>True</td>\n      <td>False</td>\n      <td>True</td>\n      <td>False</td>\n    </tr>\n    <tr>\n      <th>1</th>\n      <td>Acorn Woodpecker</td>\n      <td>Melanerpes formicivorus</td>\n      <td>core</td>\n      <td>brown</td>\n      <td>Gain 1 [seed] from the birdfeeder, if availabl...</td>\n      <td>In a single dead tree, these birds may drill a...</td>\n      <td>False</td>\n      <td>False</td>\n      <td>False</td>\n      <td>5</td>\n      <td>...</td>\n      <td>True</td>\n      <td>False</td>\n      <td>False</td>\n      <td>False</td>\n      <td>False</td>\n      <td>False</td>\n      <td>False</td>\n      <td>False</td>\n      <td>False</td>\n      <td>False</td>\n    </tr>\n    <tr>\n      <th>2</th>\n      <td>American Avocet</td>\n      <td>Recurvirostra americana</td>\n      <td>core</td>\n      <td>pink</td>\n      <td>When another player takes the \"lay eggs\" actio...</td>\n      <td>American avocets build their own nests, but th...</td>\n      <td>False</td>\n      <td>False</td>\n      <td>False</td>\n      <td>6</td>\n      <td>...</td>\n      <td>False</td>\n      <td>False</td>\n      <td>False</td>\n      <td>False</td>\n      <td>False</td>\n      <td>False</td>\n      <td>True</td>\n      <td>False</td>\n      <td>True</td>\n      <td>False</td>\n    </tr>\n    <tr>\n      <th>3</th>\n      <td>American Bittern</td>\n      <td>Botaurus lentiginosus</td>\n      <td>core</td>\n      <td>brown</td>\n      <td>Player(s) with the fewest birds in their [wetl...</td>\n      <td>Bitterns hide in reeds and cattails, where the...</td>\n      <td>False</td>\n      <td>False</td>\n      <td>False</td>\n      <td>7</td>\n      <td>...</td>\n      <td>False</td>\n      <td>False</td>\n      <td>False</td>\n      <td>True</td>\n      <td>False</td>\n      <td>True</td>\n      <td>True</td>\n      <td>False</td>\n      <td>True</td>\n      <td>False</td>\n    </tr>\n    <tr>\n      <th>4</th>\n      <td>American Coot</td>\n      <td>Fulica americana</td>\n      <td>core</td>\n      <td>brown</td>\n      <td>Tuck 1 [card] from your hand behind this bird....</td>\n      <td>These omnivorous birds eat a lot of algae, but...</td>\n      <td>False</td>\n      <td>True</td>\n      <td>False</td>\n      <td>3</td>\n      <td>...</td>\n      <td>False</td>\n      <td>True</td>\n      <td>False</td>\n      <td>True</td>\n      <td>False</td>\n      <td>False</td>\n      <td>False</td>\n      <td>False</td>\n      <td>True</td>\n      <td>False</td>\n    </tr>\n  </tbody>\n</table>\n<p>5 rows × 60 columns</p>\n</div>"
     },
     "execution_count": 2,
     "metadata": {},
     "output_type": "execute_result"
    }
   ],
   "source": [
    "boids = pd.read_csv('clean_birds.csv') # read the data\n",
    "\n",
    "boids.head() # take a peek"
   ],
   "metadata": {
    "collapsed": false
   }
  },
  {
   "cell_type": "code",
   "execution_count": 3,
   "outputs": [
    {
     "data": {
      "text/plain": "       Set  Color  Predator  Flocking  Bonus_card  Victory_points Nest_type  \\\n0  oceania  white     False     False        True               5  platform   \n1     core  brown     False     False       False               5    cavity   \n2     core   pink     False     False       False               6    ground   \n3     core  brown     False     False       False               7  platform   \n4     core  brown     False      True       False               3  platform   \n\n   Egg_limit Wingspan  Forest  ...  Nest_Box_Builder  Omnivore_Expert  \\\n0          1      190   False  ...             False            False   \n1          4       46    True  ...              True            False   \n2          2       79   False  ...             False            False   \n3          2      107   False  ...             False            False   \n4          5       61   False  ...             False             True   \n\n   Passerine_Specialist  Platform_Builder  Prairie_Manager  Rodentologist  \\\n0                 False              True            False          False   \n1                 False             False            False          False   \n2                 False             False            False          False   \n3                 False              True            False           True   \n4                 False              True            False          False   \n\n   Small_Clutch_Specialist  Viticulturalist  Wetland_Scientist  \\\n0                     True            False               True   \n1                    False            False              False   \n2                     True            False               True   \n3                     True            False               True   \n4                    False            False               True   \n\n   Wildlife_Gardener  \n0              False  \n1              False  \n2              False  \n3              False  \n4              False  \n\n[5 rows x 55 columns]",
      "text/html": "<div>\n<style scoped>\n    .dataframe tbody tr th:only-of-type {\n        vertical-align: middle;\n    }\n\n    .dataframe tbody tr th {\n        vertical-align: top;\n    }\n\n    .dataframe thead th {\n        text-align: right;\n    }\n</style>\n<table border=\"1\" class=\"dataframe\">\n  <thead>\n    <tr style=\"text-align: right;\">\n      <th></th>\n      <th>Set</th>\n      <th>Color</th>\n      <th>Predator</th>\n      <th>Flocking</th>\n      <th>Bonus_card</th>\n      <th>Victory_points</th>\n      <th>Nest_type</th>\n      <th>Egg_limit</th>\n      <th>Wingspan</th>\n      <th>Forest</th>\n      <th>...</th>\n      <th>Nest_Box_Builder</th>\n      <th>Omnivore_Expert</th>\n      <th>Passerine_Specialist</th>\n      <th>Platform_Builder</th>\n      <th>Prairie_Manager</th>\n      <th>Rodentologist</th>\n      <th>Small_Clutch_Specialist</th>\n      <th>Viticulturalist</th>\n      <th>Wetland_Scientist</th>\n      <th>Wildlife_Gardener</th>\n    </tr>\n  </thead>\n  <tbody>\n    <tr>\n      <th>0</th>\n      <td>oceania</td>\n      <td>white</td>\n      <td>False</td>\n      <td>False</td>\n      <td>True</td>\n      <td>5</td>\n      <td>platform</td>\n      <td>1</td>\n      <td>190</td>\n      <td>False</td>\n      <td>...</td>\n      <td>False</td>\n      <td>False</td>\n      <td>False</td>\n      <td>True</td>\n      <td>False</td>\n      <td>False</td>\n      <td>True</td>\n      <td>False</td>\n      <td>True</td>\n      <td>False</td>\n    </tr>\n    <tr>\n      <th>1</th>\n      <td>core</td>\n      <td>brown</td>\n      <td>False</td>\n      <td>False</td>\n      <td>False</td>\n      <td>5</td>\n      <td>cavity</td>\n      <td>4</td>\n      <td>46</td>\n      <td>True</td>\n      <td>...</td>\n      <td>True</td>\n      <td>False</td>\n      <td>False</td>\n      <td>False</td>\n      <td>False</td>\n      <td>False</td>\n      <td>False</td>\n      <td>False</td>\n      <td>False</td>\n      <td>False</td>\n    </tr>\n    <tr>\n      <th>2</th>\n      <td>core</td>\n      <td>pink</td>\n      <td>False</td>\n      <td>False</td>\n      <td>False</td>\n      <td>6</td>\n      <td>ground</td>\n      <td>2</td>\n      <td>79</td>\n      <td>False</td>\n      <td>...</td>\n      <td>False</td>\n      <td>False</td>\n      <td>False</td>\n      <td>False</td>\n      <td>False</td>\n      <td>False</td>\n      <td>True</td>\n      <td>False</td>\n      <td>True</td>\n      <td>False</td>\n    </tr>\n    <tr>\n      <th>3</th>\n      <td>core</td>\n      <td>brown</td>\n      <td>False</td>\n      <td>False</td>\n      <td>False</td>\n      <td>7</td>\n      <td>platform</td>\n      <td>2</td>\n      <td>107</td>\n      <td>False</td>\n      <td>...</td>\n      <td>False</td>\n      <td>False</td>\n      <td>False</td>\n      <td>True</td>\n      <td>False</td>\n      <td>True</td>\n      <td>True</td>\n      <td>False</td>\n      <td>True</td>\n      <td>False</td>\n    </tr>\n    <tr>\n      <th>4</th>\n      <td>core</td>\n      <td>brown</td>\n      <td>False</td>\n      <td>True</td>\n      <td>False</td>\n      <td>3</td>\n      <td>platform</td>\n      <td>5</td>\n      <td>61</td>\n      <td>False</td>\n      <td>...</td>\n      <td>False</td>\n      <td>True</td>\n      <td>False</td>\n      <td>True</td>\n      <td>False</td>\n      <td>False</td>\n      <td>False</td>\n      <td>False</td>\n      <td>True</td>\n      <td>False</td>\n    </tr>\n  </tbody>\n</table>\n<p>5 rows × 55 columns</p>\n</div>"
     },
     "execution_count": 3,
     "metadata": {},
     "output_type": "execute_result"
    }
   ],
   "source": [
    "# Drop some columns that aren't going to matter\n",
    "\n",
    "to_drop = ['Common_name','Scientific_name', 'Flavor_text','Total_food_cost','Power_text']\n",
    "\n",
    "boids = boids.drop(to_drop, axis=1)\n",
    "\n",
    "boids.head()"
   ],
   "metadata": {
    "collapsed": false
   }
  },
  {
   "cell_type": "code",
   "execution_count": 4,
   "outputs": [],
   "source": [
    "# Split out my target variable\n",
    "\n",
    "pointz = boids['Victory_points']\n",
    "\n",
    "boids = boids.drop('Victory_points', axis=1)\n",
    "\n",
    "boids['Wingspan'] = pd.to_numeric(boids['Wingspan'], errors='coerce')"
   ],
   "metadata": {
    "collapsed": false
   }
  },
  {
   "cell_type": "code",
   "execution_count": 5,
   "outputs": [],
   "source": [
    "# Split into train and test\n",
    "\n",
    "X_train,X_test,y_train,y_test = train_test_split(boids,pointz,test_size=.2,random_state=42)"
   ],
   "metadata": {
    "collapsed": false
   }
  },
  {
   "cell_type": "code",
   "execution_count": 6,
   "outputs": [],
   "source": [
    "num_pipe = make_pipeline(\n",
    "    SimpleImputer(strategy='median'),\n",
    "    StandardScaler()\n",
    ")\n",
    "\n",
    "cat_pipe = make_pipeline(\n",
    "    SimpleImputer(strategy='constant',fill_value='None'),\n",
    "    OneHotEncoder(drop='first')\n",
    ")"
   ],
   "metadata": {
    "collapsed": false
   }
  },
  {
   "cell_type": "code",
   "execution_count": 7,
   "outputs": [
    {
     "name": "stdout",
     "output_type": "stream",
     "text": [
      "<class 'pandas.core.frame.DataFrame'>\n",
      "Index: 356 entries, 17 to 102\n",
      "Data columns (total 54 columns):\n",
      " #   Column                        Non-Null Count  Dtype  \n",
      "---  ------                        --------------  -----  \n",
      " 0   Set                           356 non-null    object \n",
      " 1   Color                         350 non-null    object \n",
      " 2   Predator                      356 non-null    bool   \n",
      " 3   Flocking                      356 non-null    bool   \n",
      " 4   Bonus_card                    356 non-null    bool   \n",
      " 5   Nest_type                     351 non-null    object \n",
      " 6   Egg_limit                     356 non-null    int64  \n",
      " 7   Wingspan                      353 non-null    float64\n",
      " 8   Forest                        356 non-null    bool   \n",
      " 9   Grassland                     356 non-null    bool   \n",
      " 10  Wetland                       356 non-null    bool   \n",
      " 11  Invertebrate                  356 non-null    int64  \n",
      " 12  Seed                          356 non-null    int64  \n",
      " 13  Fish                          356 non-null    int64  \n",
      " 14  Fruit                         356 non-null    int64  \n",
      " 15  Rodent                        356 non-null    int64  \n",
      " 16  Nectar                        356 non-null    int64  \n",
      " 17  Wild_food                     356 non-null    int64  \n",
      " 18  food_cost_flexible            356 non-null    bool   \n",
      " 19  food_cost_paid_by_cards       356 non-null    bool   \n",
      " 20  Swift_Start                   356 non-null    bool   \n",
      " 21  North_America                 356 non-null    bool   \n",
      " 22  Central_America               356 non-null    bool   \n",
      " 23  South_America                 356 non-null    bool   \n",
      " 24  Europe                        356 non-null    bool   \n",
      " 25  Asia                          356 non-null    bool   \n",
      " 26  Africa                        356 non-null    bool   \n",
      " 27  Oceania                       356 non-null    bool   \n",
      " 28  Anatomist                     356 non-null    bool   \n",
      " 29  Cartographer                  356 non-null    bool   \n",
      " 30  Historian                     356 non-null    bool   \n",
      " 31  Photographer                  356 non-null    bool   \n",
      " 32  Backyard_Birder               356 non-null    bool   \n",
      " 33  Bird_Bander                   356 non-null    bool   \n",
      " 34  Bird_Counter                  356 non-null    bool   \n",
      " 35  Bird_Feeder                   356 non-null    bool   \n",
      " 36  Diet_Specialist               356 non-null    bool   \n",
      " 37  Enclosure_Builder             356 non-null    bool   \n",
      " 38  Endangered_Species_Protector  356 non-null    bool   \n",
      " 39  Falconer                      356 non-null    bool   \n",
      " 40  Fishery_Manager               356 non-null    bool   \n",
      " 41  Food_Web_Expert               356 non-null    bool   \n",
      " 42  Forester                      356 non-null    bool   \n",
      " 43  Large_Bird_Specialist         356 non-null    bool   \n",
      " 44  Nest_Box_Builder              356 non-null    bool   \n",
      " 45  Omnivore_Expert               356 non-null    bool   \n",
      " 46  Passerine_Specialist          356 non-null    bool   \n",
      " 47  Platform_Builder              356 non-null    bool   \n",
      " 48  Prairie_Manager               356 non-null    bool   \n",
      " 49  Rodentologist                 356 non-null    bool   \n",
      " 50  Small_Clutch_Specialist       356 non-null    bool   \n",
      " 51  Viticulturalist               356 non-null    bool   \n",
      " 52  Wetland_Scientist             356 non-null    bool   \n",
      " 53  Wildlife_Gardener             356 non-null    bool   \n",
      "dtypes: bool(42), float64(1), int64(8), object(3)\n",
      "memory usage: 50.8+ KB\n"
     ]
    }
   ],
   "source": [
    "X_train.info()"
   ],
   "metadata": {
    "collapsed": false
   }
  },
  {
   "cell_type": "code",
   "execution_count": 8,
   "outputs": [],
   "source": [
    "num_colz = ['Egg_limit','Wingspan','Invertebrate','Seed','Fish','Fruit','Rodent','Nectar','Wild_food']\n",
    "cat_colz = ['Set','Color', 'Nest_type']\n",
    "\n",
    "preprocessing = ColumnTransformer(\n",
    "    transformers=[\n",
    "        ('num',num_pipe,num_colz),\n",
    "        ('cat',cat_pipe,cat_colz)\n",
    "\n",
    "    ]\n",
    ")"
   ],
   "metadata": {
    "collapsed": false
   }
  },
  {
   "cell_type": "code",
   "execution_count": 9,
   "outputs": [],
   "source": [
    "X_train_prepared = preprocessing.fit_transform(X_train)"
   ],
   "metadata": {
    "collapsed": false
   }
  },
  {
   "cell_type": "code",
   "execution_count": 10,
   "outputs": [
    {
     "data": {
      "text/plain": "count    10.000000\nmean      1.512213\nstd       0.181029\nmin       1.240433\n25%       1.366152\n50%       1.559037\n75%       1.623771\nmax       1.796301\ndtype: float64"
     },
     "execution_count": 10,
     "metadata": {},
     "output_type": "execute_result"
    }
   ],
   "source": [
    "lin_reg = LinearRegression()\n",
    "\n",
    "lin_reg.fit(X_train_prepared,y_train)\n",
    "\n",
    "lin_reg_rmses = -cross_val_score(lin_reg, X_train_prepared, y_train,\n",
    "                                 scoring=\"neg_root_mean_squared_error\", cv=10)\n",
    "\n",
    "pd.Series(lin_reg_rmses).describe()\n"
   ],
   "metadata": {
    "collapsed": false
   }
  },
  {
   "cell_type": "code",
   "execution_count": 11,
   "outputs": [
    {
     "data": {
      "text/plain": "count    10.000000\nmean      1.727613\nstd       0.223041\nmin       1.330360\n25%       1.592041\n50%       1.722068\n75%       1.816701\nmax       2.130310\ndtype: float64"
     },
     "execution_count": 11,
     "metadata": {},
     "output_type": "execute_result"
    }
   ],
   "source": [
    "# instantiate a RandomForestRegressor class\n",
    "forest_reg = RandomForestRegressor(random_state=42)\n",
    "\n",
    "# fit the model\n",
    "forest_reg.fit(X_train_prepared, y_train)\n",
    "\n",
    "# cross validation\n",
    "forest_rmses = -cross_val_score(forest_reg, X_train_prepared, y_train,\n",
    "                                scoring=\"neg_root_mean_squared_error\", cv=10)\n",
    "\n",
    "# check cross validation scores\n",
    "pd.Series(forest_rmses).describe()"
   ],
   "metadata": {
    "collapsed": false
   }
  },
  {
   "cell_type": "code",
   "execution_count": 12,
   "outputs": [
    {
     "data": {
      "text/plain": "count    10.000000\nmean      1.534860\nstd       0.189734\nmin       1.292204\n25%       1.358570\n50%       1.570346\n75%       1.670864\nmax       1.850779\ndtype: float64"
     },
     "execution_count": 12,
     "metadata": {},
     "output_type": "execute_result"
    }
   ],
   "source": [
    "ridge_model = Ridge(alpha=1.0)  # alpha is the regularization strength\n",
    "ridge_model.fit(X_train_prepared, y_train)\n",
    "\n",
    "ridge_rmses = -cross_val_score(ridge_model, X_train_prepared, y_train,\n",
    "                                scoring=\"neg_root_mean_squared_error\", cv=10)\n",
    "\n",
    "pd.Series(ridge_rmses).describe()"
   ],
   "metadata": {
    "collapsed": false
   }
  },
  {
   "cell_type": "code",
   "execution_count": 13,
   "outputs": [
    {
     "data": {
      "text/plain": "count    10.000000\nmean      2.043062\nstd       0.218143\nmin       1.689284\n25%       1.943418\n50%       2.031840\n75%       2.242421\nmax       2.305790\ndtype: float64"
     },
     "execution_count": 13,
     "metadata": {},
     "output_type": "execute_result"
    }
   ],
   "source": [
    "lasso_model = Lasso(alpha=1.0)  # alpha is the regularization strength for Lasso\n",
    "lasso_model.fit(X_train_prepared, y_train)\n",
    "\n",
    "\n",
    "lasso_rmses = -cross_val_score(lasso_model, X_train_prepared, y_train,\n",
    "                               scoring=\"neg_root_mean_squared_error\", cv=10)\n",
    "\n",
    "pd.Series(lasso_rmses).describe()"
   ],
   "metadata": {
    "collapsed": false
   }
  },
  {
   "cell_type": "code",
   "execution_count": 14,
   "outputs": [
    {
     "data": {
      "text/plain": "count    10.000000\nmean      1.581839\nstd       0.191168\nmin       1.241786\n25%       1.491066\n50%       1.574905\n75%       1.688477\nmax       1.918715\ndtype: float64"
     },
     "execution_count": 14,
     "metadata": {},
     "output_type": "execute_result"
    }
   ],
   "source": [
    "svr_model = SVR(kernel='rbf')  # Using Radial Basis Function (RBF) kernel\n",
    "svr_model.fit(X_train_prepared, y_train)\n",
    "\n",
    "svr_rmses = -cross_val_score(svr_model, X_train_prepared, y_train,\n",
    "                               scoring=\"neg_root_mean_squared_error\", cv=10)\n",
    "\n",
    "pd.Series(svr_rmses).describe()\n",
    "\n"
   ],
   "metadata": {
    "collapsed": false
   }
  },
  {
   "cell_type": "code",
   "execution_count": 77,
   "outputs": [
    {
     "name": "stderr",
     "output_type": "stream",
     "text": [
      "C:\\Users\\nspeelman.SEIU\\Anaconda3\\Lib\\site-packages\\seaborn\\_core.py:1225: FutureWarning: is_categorical_dtype is deprecated and will be removed in a future version. Use isinstance(dtype, CategoricalDtype) instead\n",
      "  if pd.api.types.is_categorical_dtype(vector):\n",
      "C:\\Users\\nspeelman.SEIU\\Anaconda3\\Lib\\site-packages\\seaborn\\_core.py:1225: FutureWarning: is_categorical_dtype is deprecated and will be removed in a future version. Use isinstance(dtype, CategoricalDtype) instead\n",
      "  if pd.api.types.is_categorical_dtype(vector):\n",
      "C:\\Users\\nspeelman.SEIU\\Anaconda3\\Lib\\site-packages\\seaborn\\_core.py:1225: FutureWarning: is_categorical_dtype is deprecated and will be removed in a future version. Use isinstance(dtype, CategoricalDtype) instead\n",
      "  if pd.api.types.is_categorical_dtype(vector):\n"
     ]
    },
    {
     "data": {
      "text/plain": "<Figure size 1440x720 with 1 Axes>",
      "image/png": "[encoded data removed]"
     },
     "metadata": {},
     "output_type": "display_data"
    }
   ],
   "source": [
    "X_test_prepared = preprocessing.transform(X_test)\n",
    "y_pred_lin = lin_reg.predict(X_test_prepared)\n",
    "\n",
    "\n",
    "# Convert to DataFrame for easier manipulation\n",
    "df = pd.DataFrame({\n",
    "    'Actual': y_test_array,\n",
    "    'Predicted': y_pred_lin_array\n",
    "})\n",
    "\n",
    "# Round the predicted values to one decimal place\n",
    "df['Predicted'] = df['Predicted'].round(1)\n",
    "\n",
    "# Count the occurrences of each (x, y) pair\n",
    "counts = df.groupby(['Actual', 'Predicted']).size().reset_index(name='Counts')\n",
    "\n",
    "# Merge the counts back to the original data\n",
    "df = df.merge(counts, on=['Actual', 'Predicted'])\n",
    "\n",
    "# Create the bubble plot\n",
    "plt.figure(figsize=(20, 10))\n",
    "sns.scatterplot(data=df, x='Actual', y='Predicted', size='Counts', sizes=(20, 200), legend=False, alpha=0.5)\n",
    "\n",
    "# Plot the ideal fit line as a solid line\n",
    "plt.plot(y_test_array, y_test_array, 'b-', label='Ideal Fit', alpha=0.1)\n",
    "\n",
    "# Plot the best fit line using a faint color\n",
    "m, b = np.polyfit(y_test_array, y_pred_lin_array, 1)  # Best fit line calculation\n",
    "plt.plot(y_test_array, m*y_test_array + b, 'b-', label='Best Fit Line', alpha=0.3)\n",
    "\n",
    "plt.xlim(0, 8)\n",
    "plt.ylim(0, 8)\n",
    "\n",
    "plt.title('Linear Regression: Actual vs Predicted with Bubble Plot')\n",
    "plt.xlabel('Actual Values')\n",
    "plt.ylabel('Predicted Values')\n",
    "plt.legend()\n",
    "plt.grid(True)\n",
    "plt.show()"
   ],
   "metadata": {
    "collapsed": false
   }
  },
  {
   "cell_type": "code",
   "execution_count": 79,
   "outputs": [
    {
     "data": {
      "text/plain": "1.620336810065197"
     },
     "execution_count": 79,
     "metadata": {},
     "output_type": "execute_result"
    }
   ],
   "source": [
    "rmse_lin = np.sqrt(mean_squared_error(y_test, y_pred_lin))\n",
    "rmse_lin"
   ],
   "metadata": {
    "collapsed": false
   }
  },
  {
   "cell_type": "code",
   "execution_count": 41,
   "outputs": [
    {
     "data": {
      "text/plain": "    Actual  Predicted    Counts\n0        0   0.647054  0.693147\n1        0   1.503526  0.693147\n2        0   4.954208  0.693147\n3        1   1.591831  0.693147\n4        1   2.403196  0.693147\n..     ...        ...       ...\n85       7   5.422198  0.693147\n86       7   6.644057  0.693147\n87       8   4.958925  0.693147\n88       8   5.190890  0.693147\n89       8   5.696543  0.693147\n\n[90 rows x 3 columns]",
      "text/html": "<div>\n<style scoped>\n    .dataframe tbody tr th:only-of-type {\n        vertical-align: middle;\n    }\n\n    .dataframe tbody tr th {\n        vertical-align: top;\n    }\n\n    .dataframe thead th {\n        text-align: right;\n    }\n</style>\n<table border=\"1\" class=\"dataframe\">\n  <thead>\n    <tr style=\"text-align: right;\">\n      <th></th>\n      <th>Actual</th>\n      <th>Predicted</th>\n      <th>Counts</th>\n    </tr>\n  </thead>\n  <tbody>\n    <tr>\n      <th>0</th>\n      <td>0</td>\n      <td>0.647054</td>\n      <td>0.693147</td>\n    </tr>\n    <tr>\n      <th>1</th>\n      <td>0</td>\n      <td>1.503526</td>\n      <td>0.693147</td>\n    </tr>\n    <tr>\n      <th>2</th>\n      <td>0</td>\n      <td>4.954208</td>\n      <td>0.693147</td>\n    </tr>\n    <tr>\n      <th>3</th>\n      <td>1</td>\n      <td>1.591831</td>\n      <td>0.693147</td>\n    </tr>\n    <tr>\n      <th>4</th>\n      <td>1</td>\n      <td>2.403196</td>\n      <td>0.693147</td>\n    </tr>\n    <tr>\n      <th>...</th>\n      <td>...</td>\n      <td>...</td>\n      <td>...</td>\n    </tr>\n    <tr>\n      <th>85</th>\n      <td>7</td>\n      <td>5.422198</td>\n      <td>0.693147</td>\n    </tr>\n    <tr>\n      <th>86</th>\n      <td>7</td>\n      <td>6.644057</td>\n      <td>0.693147</td>\n    </tr>\n    <tr>\n      <th>87</th>\n      <td>8</td>\n      <td>4.958925</td>\n      <td>0.693147</td>\n    </tr>\n    <tr>\n      <th>88</th>\n      <td>8</td>\n      <td>5.190890</td>\n      <td>0.693147</td>\n    </tr>\n    <tr>\n      <th>89</th>\n      <td>8</td>\n      <td>5.696543</td>\n      <td>0.693147</td>\n    </tr>\n  </tbody>\n</table>\n<p>90 rows × 3 columns</p>\n</div>"
     },
     "execution_count": 41,
     "metadata": {},
     "output_type": "execute_result"
    }
   ],
   "source": [
    "counts"
   ],
   "metadata": {
    "collapsed": false
   }
  }
 ],
 "metadata": {
  "kernelspec": {
   "display_name": "Python 3",
   "language": "python",
   "name": "python3"
  },
  "language_info": {
   "codemirror_mode": {
    "name": "ipython",
    "version": 2
   },
   "file_extension": ".py",
   "mimetype": "text/x-python",
   "name": "python",
   "nbconvert_exporter": "python",
   "pygments_lexer": "ipython2",
   "version": "2.7.6"
  }
 },
 "nbformat": 4,
 "nbformat_minor": 0
}
